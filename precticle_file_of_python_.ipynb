{
  "nbformat": 4,
  "nbformat_minor": 0,
  "metadata": {
    "colab": {
      "name": "precticle file of python .ipynb",
      "provenance": []
    },
    "kernelspec": {
      "name": "python3",
      "display_name": "Python 3"
    },
    "language_info": {
      "name": "python"
    }
  },
  "cells": [
    {
      "cell_type": "markdown",
      "source": [
        "Q1. Program to add, subtract, multiply and divide two pre-defined numbers."
      ],
      "metadata": {
        "id": "UfAcrwsw0wgu"
      }
    },
    {
      "cell_type": "code",
      "source": [
        "num1 = int(input(\"Enter First Number: \"))\n",
        "num2 = int(input(\"Enter Second Number: \"))\n",
        "\n",
        "print(\"Enter which operation would you like to perform?\")\n",
        "ch = input(\"Enter any of these char for specific operation +,-,*,/: \")\n",
        "\n",
        "result = 0\n",
        "if ch == '+':\n",
        "    result = num1 + num2\n",
        "elif ch == '-':\n",
        "    result = num1 - num2\n",
        "elif ch == '*':\n",
        "    result = num1 * num2\n",
        "elif ch == '/':\n",
        "    result = num1 / num2\n",
        "else:\n",
        "    print(\"Input character is not recognized!\")\n",
        "\n",
        "print(num1, ch , num2, \":\", result)\n"
      ],
      "metadata": {
        "colab": {
          "base_uri": "https://localhost:8080/"
        },
        "id": "U3_XxYhw00BA",
        "outputId": "0506220f-e944-495d-c4d2-d15b3428cd8d"
      },
      "execution_count": 1,
      "outputs": [
        {
          "output_type": "stream",
          "name": "stdout",
          "text": [
            "Enter First Number: 1\n",
            "Enter Second Number: 2\n",
            "Enter which operation would you like to perform?\n",
            "Enter any of these char for specific operation +,-,*,/: +\n",
            "1 + 2 : 3\n"
          ]
        }
      ]
    },
    {
      "cell_type": "code",
      "source": [
        ""
      ],
      "metadata": {
        "id": "JOKwp-4Z5fur"
      },
      "execution_count": null,
      "outputs": []
    },
    {
      "cell_type": "markdown",
      "source": [
        "Q2. Program to perform floor division between two pre-defined numbers."
      ],
      "metadata": {
        "id": "P-60dzCV1LOM"
      }
    },
    {
      "cell_type": "code",
      "source": [
        "a = 10\n",
        "b = 3\n",
        "\n",
        "print(a//b)  # 3\n",
        "\n",
        "a = -10\n",
        "b = -3\n",
        "\n",
        "print(a//b)  # 3\n",
        "\n",
        "a = 10\n",
        "b = -3\n",
        "print(a//b)  # -4\n",
        "\n",
        "a = -10\n",
        "b = 3\n",
        "print(a//b)  # -4"
      ],
      "metadata": {
        "colab": {
          "base_uri": "https://localhost:8080/"
        },
        "id": "S6gDXkX218-P",
        "outputId": "dc0a6578-19d2-4968-b5c3-0ab14f7ae599"
      },
      "execution_count": 2,
      "outputs": [
        {
          "output_type": "stream",
          "name": "stdout",
          "text": [
            "3\n",
            "3\n",
            "-4\n",
            "-4\n"
          ]
        }
      ]
    },
    {
      "cell_type": "markdown",
      "source": [
        "Q3. Program to find remainder of division between two pre-defined numbers."
      ],
      "metadata": {
        "id": "dk5NPyGy2Elg"
      }
    },
    {
      "cell_type": "code",
      "source": [
        "n=10\n",
        "m=2\n",
        "\n",
        "r = n%m\n",
        "print(\"Remainder\", r)"
      ],
      "metadata": {
        "colab": {
          "base_uri": "https://localhost:8080/"
        },
        "id": "WPvuIHqu2dn_",
        "outputId": "80469a9f-93ea-42aa-f259-9356c3c2f08a"
      },
      "execution_count": 3,
      "outputs": [
        {
          "output_type": "stream",
          "name": "stdout",
          "text": [
            "Remainder 0\n"
          ]
        }
      ]
    },
    {
      "cell_type": "markdown",
      "source": [
        "Q4. Program to print the table of 5 without using loop."
      ],
      "metadata": {
        "id": "lh3MQKe02n5o"
      }
    },
    {
      "cell_type": "code",
      "source": [
        "def printNos(n):\n",
        "    if n > 0:\n",
        "        printNos(n - 1)\n",
        "        print(n, end = ' ')\n",
        " \n",
        "# Driver code\n",
        "printNos(100)"
      ],
      "metadata": {
        "colab": {
          "base_uri": "https://localhost:8080/"
        },
        "id": "4Z6A298124ys",
        "outputId": "ab46611c-d6d1-4a72-a029-d3b43b762ae0"
      },
      "execution_count": 6,
      "outputs": [
        {
          "output_type": "stream",
          "name": "stdout",
          "text": [
            "1 2 3 4 5 6 7 8 9 10 11 12 13 14 15 16 17 18 19 20 21 22 23 24 25 26 27 28 29 30 31 32 33 34 35 36 37 38 39 40 41 42 43 44 45 46 47 48 49 50 51 52 53 54 55 56 57 58 59 60 61 62 63 64 65 66 67 68 69 70 71 72 73 74 75 76 77 78 79 80 81 82 83 84 85 86 87 88 89 90 91 92 93 94 95 96 97 98 99 100 "
          ]
        }
      ]
    },
    {
      "cell_type": "markdown",
      "source": [
        "Q5. Program to find type of variable."
      ],
      "metadata": {
        "id": "Bo-K7nAe4HRF"
      }
    },
    {
      "cell_type": "code",
      "source": [
        "a = 12\n",
        "print(type(a))\n",
        "\n",
        "a = 1000000000\n",
        "print(type(a))\n",
        "\n",
        "a = 'Hello World!'\n",
        "print(type(a))\n",
        "\n",
        "a = '3.14159'\n",
        "print(type(a).__name__)"
      ],
      "metadata": {
        "colab": {
          "base_uri": "https://localhost:8080/"
        },
        "id": "zssdJF7m4cIE",
        "outputId": "d251e81f-1837-443a-eae4-c1265761a4ef"
      },
      "execution_count": 7,
      "outputs": [
        {
          "output_type": "stream",
          "name": "stdout",
          "text": [
            "<class 'int'>\n",
            "<class 'int'>\n",
            "<class 'str'>\n",
            "str\n"
          ]
        }
      ]
    },
    {
      "cell_type": "markdown",
      "source": [
        "Q6. Program to use sep and end in print function."
      ],
      "metadata": {
        "id": "tzAP8WcS5Ok2"
      }
    },
    {
      "cell_type": "code",
      "source": [
        "print('G','F', sep='', end='')\n",
        "print('G')\n",
        "#\\n provides new line after printing the year\n",
        "print('09','12','2016', sep='-', end='\\n')\n",
        " \n",
        "print('prtk','agarwal', sep='', end='@')\n",
        "print('omprakash kumar')\n",
        "\n"
      ],
      "metadata": {
        "colab": {
          "base_uri": "https://localhost:8080/"
        },
        "id": "CxkGeMaY49Dl",
        "outputId": "ed63d6c0-b911-4646-84d1-2cb1ec205f3f"
      },
      "execution_count": 8,
      "outputs": [
        {
          "output_type": "stream",
          "name": "stdout",
          "text": [
            "GFG\n",
            "09-12-2016\n",
            "prtkagarwal@omprakash kumar\n"
          ]
        }
      ]
    },
    {
      "cell_type": "markdown",
      "source": [
        "Q7. Program to add, subtract, multiply and divide two user-defined numbers."
      ],
      "metadata": {
        "id": "hesbanLe5lMC"
      }
    },
    {
      "cell_type": "code",
      "source": [
        "num1 = int(input(\"Enter First Number: \"))\n",
        "num2 = int(input(\"Enter Second Number: \"))\n",
        "\n",
        "print(\"Enter which operation would you like to perform?\")\n",
        "ch = input(\"Enter any of these char for specific operation +,-,*,/: \")\n",
        "\n",
        "result = 0\n",
        "if ch == '+':\n",
        "    result = num1 + num2\n",
        "elif ch == '-':\n",
        "    result = num1 - num2\n",
        "elif ch == '*':\n",
        "    result = num1 * num2\n",
        "elif ch == '/':\n",
        "    result = num1 / num2\n",
        "else:\n",
        "    print(\"Input character is not recognized!\")\n",
        "\n",
        "print(num1, ch , num2, \":\", result)"
      ],
      "metadata": {
        "id": "7sJLr8Rz5hf5"
      },
      "execution_count": null,
      "outputs": []
    },
    {
      "cell_type": "markdown",
      "source": [
        "\n",
        "Q8. Program to get name and age from user and then print it."
      ],
      "metadata": {
        "id": "6sX-xiSf5zb7"
      }
    },
    {
      "cell_type": "code",
      "source": [
        "name = input(\"Enter your name: \") # user input\n",
        "current_age = int(input(\"Enter your age: \")) # user input\n",
        "#calculating the 100th year, considering 2020 as the current year\n",
        "print(\"name\",name )\n",
        "print(\"age\",current_age)"
      ],
      "metadata": {
        "colab": {
          "base_uri": "https://localhost:8080/"
        },
        "id": "tgarwD2C6L10",
        "outputId": "117b9547-c4b2-4d7f-9561-8dacf923bc63"
      },
      "execution_count": 10,
      "outputs": [
        {
          "output_type": "stream",
          "name": "stdout",
          "text": [
            "Enter your name: we\n",
            "Enter your age: 12\n",
            "name we\n",
            "age 12\n"
          ]
        }
      ]
    },
    {
      "cell_type": "markdown",
      "source": [
        "Q9. Program to find Area of Circle where user enters radius."
      ],
      "metadata": {
        "id": "z2w1O_AE6oEJ"
      }
    },
    {
      "cell_type": "code",
      "source": [
        "π = 3.14  \n",
        "Radius = float (input (\"Please enter the radius of the given circle: \"))  \n",
        "area_of_the_circle = π * Radius * Radius  \n",
        "print (\" The area of the given circle is: \", area_of_the_circle)  \n"
      ],
      "metadata": {
        "id": "twSzyCVZ6o6G"
      },
      "execution_count": null,
      "outputs": []
    },
    {
      "cell_type": "markdown",
      "source": [
        "Q10. Program to find Area of Square where user enters length of side."
      ],
      "metadata": {
        "id": "0oKj38gp7nKN"
      }
    },
    {
      "cell_type": "code",
      "source": [
        "side = int(input(\"Enter the side of squre\"))\n",
        "Area = side*side\n",
        "print(\"Area of the square=\"+str(Area))"
      ],
      "metadata": {
        "colab": {
          "base_uri": "https://localhost:8080/"
        },
        "id": "5Hta5IKy7RbC",
        "outputId": "aa4f6f8a-0495-4425-868e-fa62961d4805"
      },
      "execution_count": 12,
      "outputs": [
        {
          "output_type": "stream",
          "name": "stdout",
          "text": [
            "Enter the side of squre2\n",
            "Area of the square=4\n"
          ]
        }
      ]
    },
    {
      "cell_type": "markdown",
      "source": [
        "Q11. Program to find Area of Rectangle where user enters Length and Breadth."
      ],
      "metadata": {
        "id": "knL1h3F57p9A"
      }
    },
    {
      "cell_type": "code",
      "source": [
        " #Write a Program to find the Area of a Rectangle and \n",
        "# Perimeter of a Rectangle in Python\n",
        "\n",
        "w = float(input('Please Enter the Width of a Rectangle: '))\n",
        "h = float(input('Please Enter the Height of a Rectangle: '))\n",
        "\n",
        "# calculate the area\n",
        "Area = w * h\n",
        "\n",
        "# calculate the Perimeter\n",
        "Perimeter = 2 * (w + h)\n",
        "\n",
        "print(\"\\n Area of a Rectangle is: %.2f\" %Area)\n",
        "print(\" Perimeter of Rectangle is: %.2f\" %Perimeter)"
      ],
      "metadata": {
        "colab": {
          "base_uri": "https://localhost:8080/"
        },
        "id": "5El2Dh867b3K",
        "outputId": "4a9e8913-d36b-441e-ab25-fd521610197d"
      },
      "execution_count": 14,
      "outputs": [
        {
          "output_type": "stream",
          "name": "stdout",
          "text": [
            "Please Enter the Width of a Rectangle: 2\n",
            "Please Enter the Height of a Rectangle: 3\n",
            "\n",
            " Area of a Rectangle is: 6.00\n",
            " Perimeter of Rectangle is: 10.00\n"
          ]
        }
      ]
    },
    {
      "cell_type": "markdown",
      "source": [
        "Q12. Program to print many lines from one variable"
      ],
      "metadata": {
        "id": "uOLsF_Lf8JZE"
      }
    },
    {
      "cell_type": "code",
      "source": [
        "#You can use \\n to create a carriage return.\n",
        "print(\"first line\\nSecond line\")\n",
        "\n",
        "#Or use the following syntax to replace the commas with \\n\n",
        "#to create carriage returns for each line.\n",
        "\n",
        "print(\"first line\", \"second line\", sep=\"\\n\")\n",
        "\n",
        "#Or use triple quotation marks at the start and end of \n",
        "#the text and format the text how you want it to appear.\n",
        "\n",
        "print(\"\"\"\n",
        "Line1\n",
        "Line2\n",
        "\"\"\")"
      ],
      "metadata": {
        "colab": {
          "base_uri": "https://localhost:8080/"
        },
        "id": "qlX7TDnM87Sk",
        "outputId": "c9538841-ffa7-4f14-976c-4c5341ab40db"
      },
      "execution_count": 15,
      "outputs": [
        {
          "output_type": "stream",
          "name": "stdout",
          "text": [
            "first line\n",
            "Second line\n",
            "first line\n",
            "second line\n",
            "\n",
            "Line1\n",
            "Line2\n",
            "\n"
          ]
        }
      ]
    },
    {
      "cell_type": "markdown",
      "source": [
        "Q13. Program to implement all Arithmetic Operators"
      ],
      "metadata": {
        "id": "Q88rvgyS9AQy"
      }
    },
    {
      "cell_type": "code",
      "source": [
        "# Store input numbers:  \n",
        "num1 = input('Enter first number: ')  \n",
        "num2 = input('Enter second number: ')  \n",
        "  \n",
        "# Add two numbers  \n",
        "sum = float(num1) + float(num2)  \n",
        "# Subtract two numbers  \n",
        "min = float(num1) - float(num2)  \n",
        "# Multiply two numbers  \n",
        "mul = float(num1) * float(num2)  \n",
        "#Divide two numbers  \n",
        "div = float(num1) / float(num2)  \n",
        "# Display the sum  \n",
        "print('The sum of {0} and {1} is {2}'.format(num1, num2, sum))  \n",
        "  \n",
        "# Display the subtraction  \n",
        "print('The subtraction of {0} and {1} is {2}'.format(num1, num2, min))  \n",
        "# Display the multiplication  \n",
        "print('The multiplication of {0} and {1} is {2}'.format(num1, num2, mul))  \n",
        "# Display the division  \n",
        "print('The division of {0} and {1} is {2}'.format(num1, num2, div))"
      ],
      "metadata": {
        "colab": {
          "base_uri": "https://localhost:8080/"
        },
        "id": "t9fQNxPq9PEn",
        "outputId": "1d709ea1-b6ab-4c48-82e3-f5262dc90c12"
      },
      "execution_count": 16,
      "outputs": [
        {
          "output_type": "stream",
          "name": "stdout",
          "text": [
            "Enter first number: 23\n",
            "Enter second number: 23\n",
            "The sum of 23 and 23 is 46.0\n",
            "The subtraction of 23 and 23 is 0.0\n",
            "The multiplication of 23 and 23 is 529.0\n",
            "The division of 23 and 23 is 1.0\n"
          ]
        }
      ]
    },
    {
      "cell_type": "markdown",
      "source": [
        "Q14. Program to implement all Comparison Operators"
      ],
      "metadata": {
        "id": "CWFQsF4I9YPJ"
      }
    },
    {
      "cell_type": "code",
      "source": [
        "\n",
        "a = 21\n",
        "b = 10\n",
        "c = 0\n",
        "\n",
        "if ( a == b ):\n",
        "   print (\"Line 1 - a is equal to b\")\n",
        "else:\n",
        "   print (\"Line 1 - a is not equal to b\")\n",
        "\n",
        "if ( a != b ):\n",
        "   print (\"Line 2 - a is not equal to b\")\n",
        "else:\n",
        "   print (\"Line 2 - a is equal to b\")\n",
        "\n",
        "if ( a  > b ):\n",
        "   print (\"Line 3 - a is not equal to b\")\n",
        "else:\n",
        "   print (\"Line 3 - a is equal to b\")\n",
        "\n",
        "if ( a < b ):\n",
        "   print (\"Line 4 - a is less than b\") \n",
        "else:\n",
        "   print (\"Line 4 - a is not less than b\")\n",
        "\n",
        "if ( a > b ):\n",
        "   print (\"Line 5 - a is greater than b\")\n",
        "else:\n",
        "   print (\"Line 5 - a is not greater than b\")\n",
        "\n",
        "a = 5;\n",
        "b = 20;\n",
        "if ( a <= b ):\n",
        "   print (\"Line 6 - a is either less than or equal to  b\")\n",
        "else:\n",
        "   print (\"Line 6 - a is neither less than nor equal to  b\")\n",
        "\n",
        "if ( b >= a ):\n",
        "   print (\"Line 7 - b is either greater than  or equal to b\")\n",
        "else:\n",
        "   print (\"Line 7 - b is neither greater than  nor equal to b\")"
      ],
      "metadata": {
        "colab": {
          "base_uri": "https://localhost:8080/"
        },
        "id": "yRhOtZWp9lQd",
        "outputId": "c449d307-8c70-4c65-8cdc-b2d32447e3c7"
      },
      "execution_count": 17,
      "outputs": [
        {
          "output_type": "stream",
          "name": "stdout",
          "text": [
            "Line 1 - a is not equal to b\n",
            "Line 2 - a is not equal to b\n",
            "Line 3 - a is not equal to b\n",
            "Line 4 - a is not less than b\n",
            "Line 5 - a is greater than b\n",
            "Line 6 - a is either less than or equal to  b\n",
            "Line 7 - b is either greater than  or equal to b\n"
          ]
        }
      ]
    },
    {
      "cell_type": "markdown",
      "source": [
        "Q15. Program to implement Augmented or Assignment Operators"
      ],
      "metadata": {
        "id": "K1MAE8QJ-YwW"
      }
    },
    {
      "cell_type": "code",
      "source": [
        "# Subtraction\n",
        "a = 23\n",
        "b = 3\n",
        "a -= b\n",
        "print('Subtraction = %d' %(a))\n",
        "\n",
        "# Multiplication\n",
        "a = 23\n",
        "b = 3\n",
        "a *= b\n",
        "print('Multiplication = %d' %(a))\n",
        "\n",
        "# Division\n",
        "a = 23\n",
        "b = 3\n",
        "a /= b\n",
        "print('Division = %f' %(a))\n",
        "\n",
        "\n",
        "# Remainder or Modulo\n",
        "a = 23\n",
        "b = 3\n",
        "a %= b\n",
        "print('Remainder or Modulo = %d' %(a))"
      ],
      "metadata": {
        "colab": {
          "base_uri": "https://localhost:8080/"
        },
        "id": "BwhjAyeS-oqf",
        "outputId": "8fdac790-a501-4f41-aab2-d41d37c9bd6d"
      },
      "execution_count": 19,
      "outputs": [
        {
          "output_type": "stream",
          "name": "stdout",
          "text": [
            "Subtraction = 20\n",
            "Multiplication = 69\n",
            "Division = 7.666667\n",
            "Remainder or Modulo = 2\n"
          ]
        }
      ]
    },
    {
      "cell_type": "markdown",
      "source": [
        "Q16. Program to implement Logical Operators"
      ],
      "metadata": {
        "id": "NgM5XFef_BB9"
      }
    },
    {
      "cell_type": "code",
      "source": [
        "a= 12\n",
        "b = 26\n",
        "c = 4\n",
        "  \n",
        "if a > b and a > c: \n",
        "    print(\"Number a is larger\") \n",
        "  \n",
        "if b > a and b > c: \n",
        "    print(\"Number b is larger\") \n",
        "  \n",
        "if c > a and c > b:    \n",
        "    print(\"Number c is larger\") "
      ],
      "metadata": {
        "id": "cEEYRUrf_CxU"
      },
      "execution_count": null,
      "outputs": []
    },
    {
      "cell_type": "markdown",
      "source": [
        "Q17. Program to implement Bitwise Operators"
      ],
      "metadata": {
        "id": "f0EQN0Iv_cmf"
      }
    },
    {
      "cell_type": "code",
      "source": [
        "a = 60            # 60 = 0011 1100 \n",
        "b = 13            # 13 = 0000 1101 \n",
        "c = 0\n",
        "\n",
        "c = a & b;        # 12 = 0000 1100\n",
        "print (\"Line 1 - Value of c is \", c)\n",
        "\n",
        "c = a | b;        # 61 = 0011 1101 \n",
        "print (\"Line 2 - Value of c is \", c)\n",
        "\n",
        "c = a ^ b;        # 49 = 0011 0001\n",
        "print (\"Line 3 - Value of c is \", c)\n",
        "\n",
        "c = ~a;           # -61 = 1100 0011\n",
        "print (\"Line 4 - Value of c is \", c)\n",
        "\n",
        "c = a << 2;       # 240 = 1111 0000\n",
        "print (\"Line 5 - Value of c is \", c)\n",
        "\n",
        "c = a >> 2;       # 15 = 0000 1111\n",
        "print (\"Line 6 - Value of c is \", c)"
      ],
      "metadata": {
        "id": "twRUC1Ax_djA"
      },
      "execution_count": null,
      "outputs": []
    },
    {
      "cell_type": "markdown",
      "source": [
        "Q18. Program to implement Unary Operators"
      ],
      "metadata": {
        "id": "1qJu70VFAD9i"
      }
    },
    {
      "cell_type": "code",
      "source": [
        "print(+3)\n",
        "\n",
        "print (-4)\n",
        "print (-4.0)\n",
        "\n",
        "print (3*2)\n",
        "print (3.0*5.0)"
      ],
      "metadata": {
        "colab": {
          "base_uri": "https://localhost:8080/"
        },
        "id": "U7NWBv0tAqi1",
        "outputId": "eb87ff68-8b62-4c1f-f2b5-de81b0ff2963"
      },
      "execution_count": 23,
      "outputs": [
        {
          "output_type": "stream",
          "name": "stdout",
          "text": [
            "3\n",
            "-4\n",
            "-4.0\n",
            "6\n",
            "15.0\n"
          ]
        }
      ]
    },
    {
      "cell_type": "markdown",
      "source": [
        "Q19. Program to print address of a variable"
      ],
      "metadata": {
        "id": "UpQwEKHlBQ4t"
      }
    },
    {
      "cell_type": "code",
      "source": [
        "a = [1, 2, 3, 4, 5]\n",
        "print(id(a))\n",
        "  \n",
        "# get id of a variable\n",
        "a = 12\n",
        "print(id(a))\n",
        "  \n",
        "# get id of tuple\n",
        "a = (1, 2, 3, 4, 5)\n",
        "print(id(a))\n",
        "  \n",
        "# get id of a dictionary\n",
        "a = {'a' : 1, 'b' : 2}\n",
        "print(id(a))\n"
      ],
      "metadata": {
        "id": "H2k4dgvRBSO2"
      },
      "execution_count": null,
      "outputs": []
    },
    {
      "cell_type": "markdown",
      "source": [
        "Q20. Program to use TypeCast"
      ],
      "metadata": {
        "id": "t4h0_QAtBbHD"
      }
    },
    {
      "cell_type": "code",
      "source": [
        "# Python program to demonstrate\n",
        "# implicit type Casting\n",
        " \n",
        "# Python automatically converts\n",
        "# a to int\n",
        "a = 7\n",
        "print(type(a))\n",
        " \n",
        "# Python automatically converts\n",
        "# b to float\n",
        "b = 3.0\n",
        "print(type(b))\n",
        " \n",
        "# Python automatically converts\n",
        "# c to float as it is a float addition\n",
        "c = a + b\n",
        "print(c)\n",
        "print(type(c))\n",
        " \n",
        "# Python automatically converts\n",
        "# d to float as it is a float multiplication\n",
        "d = a * b\n",
        "print(d)\n",
        "print(type(d))"
      ],
      "metadata": {
        "id": "5zM43vFyBir9"
      },
      "execution_count": null,
      "outputs": []
    },
    {
      "cell_type": "markdown",
      "source": [
        "Q21. Program to use simple if/else statement"
      ],
      "metadata": {
        "id": "UTz6NdXVBtMI"
      }
    },
    {
      "cell_type": "code",
      "source": [
        " \n",
        "i = 20\n",
        "if (i < 15):\n",
        "    print(\"i is smaller than 15\")\n",
        "    print(\"i'm in if Block\")\n",
        "else:\n",
        "    print(\"i is greater than 15\")\n",
        "    print(\"i'm in else Block\")\n",
        "print(\"i'm not in if and not in else Block\")"
      ],
      "metadata": {
        "colab": {
          "base_uri": "https://localhost:8080/"
        },
        "id": "U-3JqkAFCA_H",
        "outputId": "05e69af3-367e-483c-864d-9671d1517772"
      },
      "execution_count": 24,
      "outputs": [
        {
          "output_type": "stream",
          "name": "stdout",
          "text": [
            "i is greater than 15\n",
            "i'm in else Block\n",
            "i'm not in if and not in else Block\n"
          ]
        }
      ]
    },
    {
      "cell_type": "markdown",
      "source": [
        "Q22. Program to compare two numbers\n"
      ],
      "metadata": {
        "id": "i_V20-yACIfD"
      }
    },
    {
      "cell_type": "code",
      "source": [
        "num1=int(input(\"Number 1 : \"))\n",
        "num2=int(input(\"Number 1 : \"))\n",
        "if num1>num2:\n",
        "    print(\"Number1 is greater than Number2\")\n",
        "elif num1<num2:\n",
        "    print(\"Number1 is less than Number2\")\n",
        "else:\n",
        "    print(\"Number1 is equal to Number2\")\n",
        " \n"
      ],
      "metadata": {
        "colab": {
          "base_uri": "https://localhost:8080/"
        },
        "id": "0MyV4j0vCUSj",
        "outputId": "f09da660-a1f2-4769-8c28-99b54860202c"
      },
      "execution_count": 25,
      "outputs": [
        {
          "output_type": "stream",
          "name": "stdout",
          "text": [
            "Number 1 : 2\n",
            "Number 1 : 4\n",
            "Number1 is less than Number2\n"
          ]
        }
      ]
    },
    {
      "cell_type": "markdown",
      "source": [
        "Q23. Program to find if given number is even or odd"
      ],
      "metadata": {
        "id": "jHK5kBb4CaY5"
      }
    },
    {
      "cell_type": "code",
      "source": [
        "num = int(input(\"Enter a number:\"))\n",
        "if (num % 2) == 0:\n",
        "   print(\"{0} is Even\".format(num))\n",
        "else:\n",
        "   print(\"{0} is Odd\".format(num))"
      ],
      "metadata": {
        "colab": {
          "base_uri": "https://localhost:8080/"
        },
        "id": "iUl0YMXACoAx",
        "outputId": "7ec011c3-76ab-4ef8-b023-ff5d0d719da6"
      },
      "execution_count": 27,
      "outputs": [
        {
          "output_type": "stream",
          "name": "stdout",
          "text": [
            "Enter a number:3\n",
            "3 is Odd\n"
          ]
        }
      ]
    },
    {
      "cell_type": "markdown",
      "source": [
        "Q24. Program to accept three numbers from user and find maximum of three\n",
        "numbers"
      ],
      "metadata": {
        "id": "oODqlPAeDg2N"
      }
    },
    {
      "cell_type": "code",
      "source": [
        "def maximum(a, b, c):\n",
        "  \n",
        "    if (a >= b) and (a >= c):\n",
        "        largest = a\n",
        "  \n",
        "    elif (b >= a) and (b >= c):\n",
        "        largest = b\n",
        "    else:\n",
        "        largest = c\n",
        "          \n",
        "    return largest\n",
        "  \n",
        "  \n",
        "# Driven code \n",
        "a = input(\"enter first number\")\n",
        "b = input(\"enter second  number\")\n",
        "c = input(\"enter third number\")\n",
        "print(maximum(a, b, c))"
      ],
      "metadata": {
        "colab": {
          "base_uri": "https://localhost:8080/"
        },
        "id": "gDcCmGR6Dh6O",
        "outputId": "538157bb-a772-429e-cee2-bb719a2373dc"
      },
      "execution_count": 28,
      "outputs": [
        {
          "output_type": "stream",
          "name": "stdout",
          "text": [
            "14\n"
          ]
        }
      ]
    },
    {
      "cell_type": "markdown",
      "source": [
        "Q25. Program to input three numbers from user and calculate the sum of non-\n",
        "repeating numbers"
      ],
      "metadata": {
        "id": "Xq8FXlweEtPT"
      }
    },
    {
      "cell_type": "code",
      "source": [
        "def findSum(arr, n):\n",
        "    s = set()\n",
        "    sum = 0\n",
        " \n",
        "    # Hash to store all element\n",
        "    # of array\n",
        "    for i in range(n):\n",
        "        if arr[i] not in s:\n",
        "            s.add(arr[i])\n",
        "    for i in s:\n",
        "        sum = sum + i\n",
        " \n",
        "    return sum\n",
        " \n",
        "# Driver code\n",
        "arr = [1, 2, 3, 1, 1, 4, 5, 6]\n",
        "n = len(arr)\n",
        "print(findSum(arr, n))"
      ],
      "metadata": {
        "id": "RN0FUFS9E82T"
      },
      "execution_count": null,
      "outputs": []
    },
    {
      "cell_type": "markdown",
      "source": [
        "Q26. Program to make a Menu Driven Program to find Ares of different Shapes"
      ],
      "metadata": {
        "id": "7X_cukpUFdtV"
      }
    },
    {
      "cell_type": "code",
      "source": [
        "def calculate_area(name):\\\n",
        "   \n",
        "  # converting all characters\n",
        "  # into lower cases\n",
        "  name = name.lower()\n",
        "   \n",
        "  # check for the conditions\n",
        "  if name == \"rectangle\":\n",
        "    l = int(input(\"Enter rectangle's length: \"))\n",
        "    b = int(input(\"Enter rectangle's breadth: \"))\n",
        "     \n",
        "    # calculate area of rectangle\n",
        "    rect_area = l * b\n",
        "    print(f\"The area of rectangle is{rect_area}.\")\n",
        "   \n",
        "  elif name == \"square\":\n",
        "    s = int(input(\"Enter square's side length: \"))\n",
        "       \n",
        "    # calculate area of square\n",
        "    sqt_area = s * s\n",
        "    print(f\"The area of square is\n",
        "          {sqt_area}.\")\n",
        " \n",
        "  elif name == \"triangle\":\n",
        "    h = int(input(\"Enter triangle's height length: \"))\n",
        "    b = int(input(\"Enter triangle's breadth length: \"))\n",
        "       \n",
        "    # calculate area of triangle\n",
        "    tri_area = 0.5 * b * h\n",
        "    print(f\"The area of triangle is\n",
        "          {tri_area}.\")\n",
        " \n",
        "  elif name == \"circle\":\n",
        "    r = int(input(\"Enter circle's radius length: \"))\n",
        "    pi = 3.14\n",
        "         \n",
        "    # calculate area of circle\n",
        "    circ_area = pi * r * r\n",
        "    print(f\"The area of triangle is\n",
        "          {circ_area}.\")\n",
        "         \n",
        "  elif name == 'parallelogram':\n",
        "    b = int(input(\"Enter parallelogram's base length: \"))\n",
        "    h = int(input(\"Enter parallelogram's height length: \"))\n",
        "     \n",
        "    # calculate area of parallelogram\n",
        "    para_area = b * h\n",
        "    print(f\"The area of parallelogram is\n",
        "          {para_area}.\")\n",
        "     \n",
        "  else:\n",
        "    print(\"Sorry! This shape is not available\")\n",
        " \n",
        "# driver code\n",
        "if __name__ == \"__main__\" :\n",
        "   \n",
        "  print(\"Calculate Shape Area\")\n",
        "  shape_name = input(\"Enter the name of shape whose area you want to find: \")\n",
        "   \n",
        "  # function calling\n",
        "  calculate_area(shape_name)"
      ],
      "metadata": {
        "id": "MHpG0KIKFXB_"
      },
      "execution_count": null,
      "outputs": []
    },
    {
      "cell_type": "markdown",
      "source": [
        "Q27. Program to make a Menu Driven Program to take an Arithmetic Operator\n",
        "from user and display the result"
      ],
      "metadata": {
        "id": "84BBTah4Fndf"
      }
    },
    {
      "cell_type": "code",
      "source": [
        "# Program make a simple calculator\n",
        "\n",
        "# This function adds two numbers\n",
        "def add(x, y):\n",
        "    return x + y\n",
        "\n",
        "# This function subtracts two numbers\n",
        "def subtract(x, y):\n",
        "    return x - y\n",
        "\n",
        "# This function multiplies two numbers\n",
        "def multiply(x, y):\n",
        "    return x * y\n",
        "\n",
        "# This function divides two numbers\n",
        "def divide(x, y):\n",
        "    return x / y\n",
        "\n",
        "\n",
        "print(\"Select operation.\")\n",
        "print(\"1.Add\")\n",
        "print(\"2.Subtract\")\n",
        "print(\"3.Multiply\")\n",
        "print(\"4.Divide\")\n",
        "\n",
        "while True:\n",
        "    # take input from the user\n",
        "    choice = input(\"Enter choice(1/2/3/4): \")\n",
        "\n",
        "    # check if choice is one of the four options\n",
        "    if choice in ('1', '2', '3', '4'):\n",
        "        num1 = float(input(\"Enter first number: \"))\n",
        "        num2 = float(input(\"Enter second number: \"))\n",
        "\n",
        "        if choice == '1':\n",
        "            print(num1, \"+\", num2, \"=\", add(num1, num2))\n",
        "\n",
        "        elif choice == '2':\n",
        "            print(num1, \"-\", num2, \"=\", subtract(num1, num2))\n",
        "\n",
        "        elif choice == '3':\n",
        "            print(num1, \"*\", num2, \"=\", multiply(num1, num2))\n",
        "\n",
        "        elif choice == '4':\n",
        "            print(num1, \"/\", num2, \"=\", divide(num1, num2))\n",
        "        \n",
        "        # check if user wants another calculation\n",
        "        # break the while loop if answer is no\n",
        "        next_calculation = input(\"Let's do next calculation? (yes/no): \")\n",
        "        if next_calculation == \"no\":\n",
        "          break\n",
        "    \n",
        "    else:\n",
        "        print(\"Invalid Input\")"
      ],
      "metadata": {
        "colab": {
          "base_uri": "https://localhost:8080/"
        },
        "id": "QXYCbI2kF4-H",
        "outputId": "7a7e6260-0750-4404-ec80-6ba4b14a2676"
      },
      "execution_count": 30,
      "outputs": [
        {
          "name": "stdout",
          "output_type": "stream",
          "text": [
            "Select operation.\n",
            "1.Add\n",
            "2.Subtract\n",
            "3.Multiply\n",
            "4.Divide\n",
            "Enter choice(1/2/3/4): 1\n",
            "Enter first number: 2\n",
            "Enter second number: 1\n",
            "2.0 + 1.0 = 3.0\n",
            "Let's do next calculation? (yes/no): no\n"
          ]
        }
      ]
    },
    {
      "cell_type": "markdown",
      "source": [
        "Q28. Program to use is operator"
      ],
      "metadata": {
        "id": "SNi_fkmNGVa6"
      }
    },
    {
      "cell_type": "code",
      "source": [
        "a = 10\n",
        "b = 20\n",
        "c = a\n",
        " \n",
        "print(a is not b)\n",
        "print(a is c)"
      ],
      "metadata": {
        "id": "SVKZgj0jGWvH"
      },
      "execution_count": null,
      "outputs": []
    },
    {
      "cell_type": "markdown",
      "source": [
        "Q29. Program to print first five natural numbers without using range function\n",
        "with the help of for loop"
      ],
      "metadata": {
        "id": "4lZdZ4vAHV9v"
      }
    },
    {
      "cell_type": "code",
      "source": [
        "def printNos(n):\n",
        "    if n > 0:\n",
        "        printNos(n - 1)\n",
        "        print(n, end = ' ')\n",
        " \n",
        "# Driver code\n",
        "printNos(5)"
      ],
      "metadata": {
        "id": "mWMMi_zqHa_5"
      },
      "execution_count": null,
      "outputs": []
    },
    {
      "cell_type": "markdown",
      "source": [
        "Q30. Program to print first five numbers using range function with the help of\n",
        "for loop"
      ],
      "metadata": {
        "id": "E4mGf02tHckX"
      }
    },
    {
      "cell_type": "code",
      "source": [
        "a=int(input(\"number\"))\n",
        "for i in range(a):\n",
        "  print(i)"
      ],
      "metadata": {
        "colab": {
          "base_uri": "https://localhost:8080/"
        },
        "id": "9wu__omPHq-0",
        "outputId": "a9237732-f87e-4589-f2ca-3295eda292a2"
      },
      "execution_count": 32,
      "outputs": [
        {
          "output_type": "stream",
          "name": "stdout",
          "text": [
            "number4\n",
            "0\n",
            "1\n",
            "2\n",
            "3\n"
          ]
        }
      ]
    },
    {
      "cell_type": "markdown",
      "source": [
        "Q31. Sum of 10 natural numbers\n"
      ],
      "metadata": {
        "id": "1IrXTgGlIJKP"
      }
    },
    {
      "cell_type": "code",
      "source": [
        "# Sum of natural numbers up to num\n",
        "\n",
        "num = 16\n",
        "\n",
        "if num < 0:\n",
        "   print(\"Enter a positive number\")\n",
        "else:\n",
        "   sum = 0\n",
        "   # use while loop to iterate until zero\n",
        "   while(num > 0):\n",
        "       sum += num\n",
        "       num -= 1\n",
        "   print(\"The sum is\", sum)\n",
        "   "
      ],
      "metadata": {
        "id": "qnAZGxA6IVQg"
      },
      "execution_count": null,
      "outputs": []
    },
    {
      "cell_type": "markdown",
      "source": [
        "Q32. Sum of n natural numbers"
      ],
      "metadata": {
        "id": "GLKYH3I6IgHT"
      }
    },
    {
      "cell_type": "code",
      "source": [
        "num = int(input(\"Enter natural number\"))\n",
        "\n",
        "if num < 0:\n",
        "   print(\"Enter a positive number\")\n",
        "else:\n",
        "   sum = 0\n",
        "   # use while loop to iterate until zero\n",
        "   while(num > 0):\n",
        "       sum += num\n",
        "       num -= 1\n",
        "   print(\"The sum is\", sum)"
      ],
      "metadata": {
        "id": "cMcje9FrIowR"
      },
      "execution_count": null,
      "outputs": []
    },
    {
      "cell_type": "markdown",
      "source": [
        "Q33. Print n natural numbers"
      ],
      "metadata": {
        "id": "ubD0wo41IxYc"
      }
    },
    {
      "cell_type": "code",
      "source": [
        "n=int(input(\"Enter how many number you want to print\"))\n",
        "for i in range(n):\n",
        "  print(i+1)"
      ],
      "metadata": {
        "colab": {
          "base_uri": "https://localhost:8080/"
        },
        "id": "ptpq1P75IycX",
        "outputId": "f01f156a-9156-41c8-ca4f-a37c54511c85"
      },
      "execution_count": 33,
      "outputs": [
        {
          "output_type": "stream",
          "name": "stdout",
          "text": [
            "Enter how many number you want to print10\n",
            "1\n",
            "2\n",
            "3\n",
            "4\n",
            "5\n",
            "6\n",
            "7\n",
            "8\n",
            "9\n",
            "10\n"
          ]
        }
      ]
    },
    {
      "cell_type": "markdown",
      "source": [
        "Q34. Program to reverse a given number"
      ],
      "metadata": {
        "id": "8DxZRykvJLQ9"
      }
    },
    {
      "cell_type": "code",
      "source": [
        "Number = int(input(\"Please Enter any Number: \"))    \n",
        "Reverse = 0    \n",
        "while(Number > 0):    \n",
        "    Reminder = Number %10    \n",
        "    Reverse = (Reverse *10) + Reminder    \n",
        "    Number = Number //10    \n",
        "     \n",
        "print(\"\\n Reverse of entered number is = %d\" %Reverse)   \n"
      ],
      "metadata": {
        "id": "XT7dU_GaJUzl"
      },
      "execution_count": null,
      "outputs": []
    },
    {
      "cell_type": "markdown",
      "source": [
        "Q35. Program to find Factorial"
      ],
      "metadata": {
        "id": "eLOaQsDEJgBR"
      }
    },
    {
      "cell_type": "code",
      "source": [
        "num = int(input(\"Enter a number: \"))\n",
        "\n",
        "factorial = 1\n",
        "\n",
        "# check if the number is negative, positive or zero\n",
        "if num < 0:\n",
        "   print(\"Sorry, factorial does not exist for negative numbers\")\n",
        "elif num == 0:\n",
        "   print(\"The factorial of 0 is 1\")\n",
        "else:\n",
        "   for i in range(1,num + 1):\n",
        "       factorial = factorial*i\n",
        "   print(\"The factorial of\",num,\"is\",factorial)"
      ],
      "metadata": {
        "id": "bmSrRWF1JhKO"
      },
      "execution_count": null,
      "outputs": []
    },
    {
      "cell_type": "markdown",
      "source": [
        "Q36. Program to find a Palindrome number"
      ],
      "metadata": {
        "id": "QFJd98R9JuOr"
      }
    },
    {
      "cell_type": "code",
      "source": [
        "num = input(\"Enter a number\")\n",
        "if num == num[::-1]:\n",
        "    print(\"Yes its a palindrome\")\n",
        "else:\n",
        "    print(\"No, its not a palindrome\")"
      ],
      "metadata": {
        "colab": {
          "base_uri": "https://localhost:8080/"
        },
        "id": "A67YMEClKDeX",
        "outputId": "126cdd4c-5c4b-4e13-d66e-b2995eb4fc7a"
      },
      "execution_count": 34,
      "outputs": [
        {
          "output_type": "stream",
          "name": "stdout",
          "text": [
            "Enter a number121\n",
            "Yes its a palindrome\n"
          ]
        }
      ]
    },
    {
      "cell_type": "markdown",
      "source": [
        "Q37. Program to use break and continue\n"
      ],
      "metadata": {
        "id": "PWKZAG2uKKew"
      }
    },
    {
      "cell_type": "code",
      "source": [
        "number = 1 #Number is initially 1\n",
        "  \n",
        "while True : #This means the loop will continue infinite time\n",
        "        print (number) #print the number\n",
        "        number+=2 #calculate next odd number\n",
        "  \n",
        "        # Now give the breaking condition\n",
        "        if number > 10:\n",
        "                break;\n",
        "                #Breaks the loop if number is greater than ten\n",
        "                print (number) #This statement won't be executed\n"
      ],
      "metadata": {
        "id": "mz69QkgTKuXD"
      },
      "execution_count": null,
      "outputs": []
    },
    {
      "cell_type": "code",
      "source": [
        "numbers = range(1,11)\n",
        "'''\n",
        "the range(a,b) function creates a list of number 1 to (b-1)\n",
        "So, in this case it would generate\n",
        "numbers from 1 to 10\n",
        "'''\n",
        "for number in numbers:\n",
        "        #check the skipping condition\n",
        "        if number == 7:\n",
        "                #this statement will be executed\n",
        "                print(\"7 is skipped\")\n",
        "                continue\n",
        "                #this statement won't be executed\n",
        "                print (\"This won't be printed\")\n",
        "  \n",
        "        #print the values\n",
        "        #for example:\n",
        "        #2 is double of 1\n",
        "        print (number*2),\n",
        "        print (\"is double of\"),\n",
        "        print (number"
      ],
      "metadata": {
        "id": "W05sbSklK21h"
      },
      "execution_count": null,
      "outputs": []
    },
    {
      "cell_type": "markdown",
      "source": [
        "Q38. Program to find Fibonacci Series"
      ],
      "metadata": {
        "id": "7NTGRn8SK8L1"
      }
    },
    {
      "cell_type": "code",
      "source": [
        "n_terms = int(input (\"How many terms the user wants to print? \"))  \n",
        "  \n",
        "# First two terms  \n",
        "n_1 = 0  \n",
        "n_2 = 1  \n",
        "count = 0  \n",
        "  \n",
        "# Now, we will check if the number of terms is valid or not  \n",
        "if n_terms <= 0:  \n",
        "    print (\"Please enter a positive integer, the given number is not valid\")  \n",
        "# if there is only one term, it will return n_1  \n",
        "elif n_terms == 1:  \n",
        "    print (\"The Fibonacci sequence of the numbers up to\", n_terms, \": \")  \n",
        "    print(n_1)  \n",
        "# Then we will generate Fibonacci sequence of number  \n",
        "else:  \n",
        "    print (\"The fibonacci sequence of the numbers is:\")  \n",
        "    while count < n_terms:  \n",
        "        print(n_1)  \n",
        "        nth = n_1 + n_2  \n",
        "       # At last, we will update values  \n",
        "        n_1 = n_2  \n",
        "        n_2 = nth  \n",
        "        count += 1  "
      ],
      "metadata": {
        "id": "bO9ELXYgLR0V"
      },
      "execution_count": null,
      "outputs": []
    },
    {
      "cell_type": "markdown",
      "source": [
        ""
      ],
      "metadata": {
        "id": "3tOTCn9LLWem"
      }
    },
    {
      "cell_type": "markdown",
      "source": [
        "Q39. Program to count digits in a number"
      ],
      "metadata": {
        "id": "kkPxNNfhLW5X"
      }
    },
    {
      "cell_type": "code",
      "source": [
        "num = 3452\n",
        "count = 0\n",
        "\n",
        "while num != 0:\n",
        "    num //= 10\n",
        "    count += 1\n",
        "\n",
        "print(\"Number of digits: \" + str(count))"
      ],
      "metadata": {
        "id": "4KzhMzG0LfhM"
      },
      "execution_count": null,
      "outputs": []
    },
    {
      "cell_type": "markdown",
      "source": [
        "Q40. Program to Sort numbers in ascending order"
      ],
      "metadata": {
        "id": "xRJ4uV1mLoFf"
      }
    },
    {
      "cell_type": "code",
      "source": [
        "numbers = [1, 3, 4, 2]\n",
        "  \n",
        "# Sorting list of Integers in ascending\n",
        "numbers.sort()\n",
        "  \n",
        "print(numbers)"
      ],
      "metadata": {
        "id": "XgWZOJAfLsRL"
      },
      "execution_count": null,
      "outputs": []
    },
    {
      "cell_type": "markdown",
      "source": [
        "Q41. Print Table using loop"
      ],
      "metadata": {
        "id": "at9puwRXLx3f"
      }
    },
    {
      "cell_type": "code",
      "source": [
        "num = int(input(\"Enter the number: \"))\n",
        "\n",
        "print(\"Multiplication Table of\", num)\n",
        "for i in range(1, 11):\n",
        "   print(num,\"X\",i,\"=\",num * i)"
      ],
      "metadata": {
        "colab": {
          "base_uri": "https://localhost:8080/"
        },
        "id": "54ke8vkBL6-v",
        "outputId": "8eb19662-88dd-46bc-9728-0fb7d7307de4"
      },
      "execution_count": 35,
      "outputs": [
        {
          "output_type": "stream",
          "name": "stdout",
          "text": [
            "Enter the number: 2\n",
            "Multiplication Table of 2\n",
            "2 X 1 = 2\n",
            "2 X 2 = 4\n",
            "2 X 3 = 6\n",
            "2 X 4 = 8\n",
            "2 X 5 = 10\n",
            "2 X 6 = 12\n",
            "2 X 7 = 14\n",
            "2 X 8 = 16\n",
            "2 X 9 = 18\n",
            "2 X 10 = 20\n"
          ]
        }
      ]
    },
    {
      "cell_type": "markdown",
      "source": [
        "Q42. python Write a program to enter number from user until -1 is encountered and also count the number of positive, negative and zeroes entered by users"
      ],
      "metadata": {
        "id": "DWdGoU7QMUtZ"
      }
    },
    {
      "cell_type": "code",
      "source": [
        "# list of numbers\n",
        "list1 = [10, -21, 4, -45, 66, -93, 1]\n",
        "  \n",
        "pos_count, neg_count = 0, 0\n",
        "  \n",
        "# iterating each number in list\n",
        "for num in list1:\n",
        "      \n",
        "    # checking condition\n",
        "    if num >= 0:\n",
        "        pos_count += 1\n",
        "  \n",
        "    else:\n",
        "        neg_count += 1\n",
        "          \n",
        "print(\"Positive numbers in the list: \", pos_count)\n",
        "print(\"Negative numbers in the list: \", neg_count)\n",
        "Output:\n",
        "\n",
        "Positive numbers in the list:  4\n",
        "Negative numbers in the list:  3\n",
        " \n",
        "\n",
        "Example #2: Using while loop\n",
        "\n",
        "# Python program to count positive and negative numbers in a List\n",
        "  \n",
        "# list of numbers\n",
        "list1 = [-10, -21, -4, -45, -66, 93, 11]\n",
        "  \n",
        "pos_count, neg_count = 0, 0\n",
        "num = 0\n",
        "  \n",
        "# using while loop     \n",
        "while(num < len(list1)):\n",
        "      \n",
        "    # checking condition\n",
        "    if list1[num] >= 0:\n",
        "        pos_count += 1\n",
        "    else:\n",
        "        neg_count += 1\n",
        "      \n",
        "    # increment num \n",
        "    num += 1\n",
        "      \n",
        "print(\"Positive numbers in the list: \", pos_count)\n",
        "print(\"Negative numbers in the list: \", neg_count)"
      ],
      "metadata": {
        "id": "WdHRG1uEMOQb"
      },
      "execution_count": null,
      "outputs": []
    },
    {
      "cell_type": "markdown",
      "source": [
        "44"
      ],
      "metadata": {
        "id": "feEvzlWcMyYy"
      }
    },
    {
      "cell_type": "code",
      "source": [
        " n=int(input(\"Enter the number of rows: \")) \n",
        " for i in range(1,n+1): \n",
        "  print(\"* \"*n) "
      ],
      "metadata": {
        "colab": {
          "base_uri": "https://localhost:8080/"
        },
        "id": "04w_0jfeM7by",
        "outputId": "2d42317d-8bd4-485e-9420-6cc8f471d426"
      },
      "execution_count": 37,
      "outputs": [
        {
          "output_type": "stream",
          "name": "stdout",
          "text": [
            "Enter the number of rows: 3\n",
            "* * * \n",
            "* * * \n",
            "* * * \n"
          ]
        }
      ]
    },
    {
      "cell_type": "markdown",
      "source": [
        "45"
      ],
      "metadata": {
        "id": "3wDNBcYBNHSG"
      }
    },
    {
      "cell_type": "code",
      "source": [
        "n=int(input(\"Enter the number of rows: \")) \n",
        "for i in range(1,n+1): \n",
        "  for j in range(1,n+1): \n",
        "    print(i,end=\" \") \n",
        "    print()"
      ],
      "metadata": {
        "colab": {
          "base_uri": "https://localhost:8080/"
        },
        "id": "-7JsqCc8NIO9",
        "outputId": "1578ad8d-5827-4a6c-93ba-39beaee4ccab"
      },
      "execution_count": 39,
      "outputs": [
        {
          "output_type": "stream",
          "name": "stdout",
          "text": [
            "Enter the number of rows: 5\n",
            "1 \n",
            "1 \n",
            "1 \n",
            "1 \n",
            "1 \n",
            "2 \n",
            "2 \n",
            "2 \n",
            "2 \n",
            "2 \n",
            "3 \n",
            "3 \n",
            "3 \n",
            "3 \n",
            "3 \n",
            "4 \n",
            "4 \n",
            "4 \n",
            "4 \n",
            "4 \n",
            "5 \n",
            "5 \n",
            "5 \n",
            "5 \n",
            "5 \n"
          ]
        }
      ]
    },
    {
      "cell_type": "markdown",
      "source": [
        "46"
      ],
      "metadata": {
        "id": "PEbq0qwuNi8o"
      }
    },
    {
      "cell_type": "markdown",
      "source": [
        ""
      ],
      "metadata": {
        "id": "lavf3-InGYIz"
      }
    },
    {
      "cell_type": "code",
      "source": [
        "rows = 6\n",
        "\n",
        "for num in range(rows):\n",
        "\n",
        "    for i in range(num):\n",
        "\n",
        "        print(num, end=” “) # print number\n",
        "\n",
        "    # line after each row to display pattern correctly\n",
        "\n",
        "    print(” “)"
      ],
      "metadata": {
        "colab": {
          "base_uri": "https://localhost:8080/",
          "height": 130
        },
        "id": "6HI6HeBxNko7",
        "outputId": "ee3df07c-04c4-41cd-ff84-5569574b37e5"
      },
      "execution_count": 41,
      "outputs": [
        {
          "output_type": "error",
          "ename": "SyntaxError",
          "evalue": "ignored",
          "traceback": [
            "\u001b[0;36m  File \u001b[0;32m\"<ipython-input-41-512e71ac94ab>\"\u001b[0;36m, line \u001b[0;32m7\u001b[0m\n\u001b[0;31m    print(num, end=” “) # print number\u001b[0m\n\u001b[0m                   ^\u001b[0m\n\u001b[0;31mSyntaxError\u001b[0m\u001b[0;31m:\u001b[0m invalid character in identifier\n"
          ]
        }
      ]
    }
  ]
}