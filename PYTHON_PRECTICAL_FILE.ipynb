{
  "nbformat": 4,
  "nbformat_minor": 0,
  "metadata": {
    "colab": {
      "name": "PYTHON PRECTICAL FILE.ipynb",
      "provenance": []
    },
    "kernelspec": {
      "name": "python3",
      "display_name": "Python 3"
    },
    "language_info": {
      "name": "python"
    }
  },
  "cells": [
    {
      "cell_type": "code",
      "execution_count": null,
      "metadata": {
        "id": "l-YlhKbLedNm"
      },
      "outputs": [],
      "source": [
        ""
      ]
    },
    {
      "cell_type": "markdown",
      "source": [
        "11 AIM:“write a python script that prints prime numbers less than 20”"
      ],
      "metadata": {
        "id": "JDBr2Tgwej5V"
      }
    },
    {
      "cell_type": "code",
      "source": [
        "until = 20\n",
        "[n for n in range(2, until) if all(n % m != 0 for m in range(2, n-1))]"
      ],
      "metadata": {
        "colab": {
          "base_uri": "https://localhost:8080/"
        },
        "id": "6f5xpuNcelU_",
        "outputId": "f303697b-4b3d-479e-d561-a0325f772a4e"
      },
      "execution_count": 1,
      "outputs": [
        {
          "output_type": "execute_result",
          "data": {
            "text/plain": [
              "[2, 3, 5, 7, 11, 13, 17, 19]"
            ]
          },
          "metadata": {},
          "execution_count": 1
        }
      ]
    },
    {
      "cell_type": "markdown",
      "source": [
        "12 AIM:python program to find factorial of a number using recursion"
      ],
      "metadata": {
        "id": "EUL4-G9Ue9Mi"
      }
    },
    {
      "cell_type": "code",
      "source": [
        "# Factorial of a number using recursion\n",
        "\n",
        "def recur_factorial(n):\n",
        "   if n == 1:\n",
        "       return n\n",
        "   else:\n",
        "       return n*recur_factorial(n-1)\n",
        "\n",
        "num = 7\n",
        "\n",
        "# check if the number is negative\n",
        "if num < 0:\n",
        "   print(\"Sorry, factorial does not exist for negative numbers\")\n",
        "elif num == 0:\n",
        "   print(\"The factorial of 0 is 1\")\n",
        "else:\n",
        "   print(\"The factorial of\", num, \"is\", recur_factorial(num))\n"
      ],
      "metadata": {
        "colab": {
          "base_uri": "https://localhost:8080/"
        },
        "id": "jf9K_zsIfKjU",
        "outputId": "a0c4e1ef-f2d4-46b5-eaa6-c3514825ab41"
      },
      "execution_count": 3,
      "outputs": [
        {
          "output_type": "stream",
          "name": "stdout",
          "text": [
            "The factorial of 7 is 5040\n"
          ]
        }
      ]
    },
    {
      "cell_type": "markdown",
      "source": [
        "13 AIM:write a program to demonstrate the triangle on the basis of sides in python"
      ],
      "metadata": {
        "id": "06FkEuUlgnSu"
      }
    },
    {
      "cell_type": "code",
      "source": [
        "# Validity of Triangle given sides\n",
        "\n",
        "# Function definition to check validity\n",
        "def is_valid_triangle(a,b,c):\n",
        "    if a+b>=c and b+c>=a and c+a>=b:\n",
        "        return True\n",
        "    else:\n",
        "        return False\n",
        "\n",
        "# Function definition for type\n",
        "def type_of_triangle(a,b,c):\n",
        "    if a==b and b==c:\n",
        "        print('Triangle is Equilateral.')\n",
        "    elif a==b or b==c or a==c:\n",
        "        print('Triangle is Isosceles.')\n",
        "    else:\n",
        "        print('Triangle is Scalane')\n",
        "\n",
        "# Reading Three Sides\n",
        "side_a = float(input('Enter length of side a: '))\n",
        "side_b = float(input('Enter length of side b: '))\n",
        "side_c = float(input('Enter length of side c: '))\n",
        "\n",
        "# Function call & making decision\n",
        "if is_valid_triangle(side_a, side_b, side_c):\n",
        "    type_of_triangle(side_a, side_b, side_c)\n",
        "else:\n",
        "    print('Tringle is not possible from given sides.')"
      ],
      "metadata": {
        "colab": {
          "base_uri": "https://localhost:8080/"
        },
        "id": "96WXpMXmgla7",
        "outputId": "e203ef09-57a7-4972-82d2-4d9a59623d0b"
      },
      "execution_count": 4,
      "outputs": [
        {
          "output_type": "stream",
          "name": "stdout",
          "text": [
            "Enter length of side a: 3\n",
            "Enter length of side b: 4\n",
            "Enter length of side c: 5\n",
            "Triangle is Scalane\n"
          ]
        }
      ]
    },
    {
      "cell_type": "markdown",
      "source": [
        "14 AIM:write a program to define a model to find fibonacci  number and import the modern to another program"
      ],
      "metadata": {
        "id": "ZSSDQt0AhJOV"
      }
    },
    {
      "cell_type": "code",
      "source": [
        "# Fibonacci numbers module\n",
        "\n",
        "def fib(n):    # write Fibonacci series up to n\n",
        "    a, b = 0, 1\n",
        "    while b < n:\n",
        "        print(b, end =\" \")\n",
        "        a, b = b, a+b"
      ],
      "metadata": {
        "id": "F_8DSpZHhK1N"
      },
      "execution_count": 7,
      "outputs": []
    },
    {
      "cell_type": "markdown",
      "source": [
        ""
      ],
      "metadata": {
        "id": "HfGax6UCnpgq"
      }
    },
    {
      "cell_type": "code",
      "source": [
        ""
      ],
      "metadata": {
        "id": "w-FbS_gcig3z"
      },
      "execution_count": null,
      "outputs": []
    },
    {
      "cell_type": "code",
      "source": [
        "#import fibonacci module\n",
        "import fibonacci \n",
        "num=int(input(\"Enter any number to print Fibonacci series \"))\n",
        "fibonacci.fib(num)\n"
      ],
      "metadata": {
        "colab": {
          "base_uri": "https://localhost:8080/",
          "height": 356
        },
        "id": "N5SrKk6DhvUj",
        "outputId": "210ae6ff-0183-42be-daf8-b86f0c3bdac8"
      },
      "execution_count": 8,
      "outputs": [
        {
          "output_type": "error",
          "ename": "ModuleNotFoundError",
          "evalue": "ignored",
          "traceback": [
            "\u001b[0;31m---------------------------------------------------------------------------\u001b[0m",
            "\u001b[0;31mModuleNotFoundError\u001b[0m                       Traceback (most recent call last)",
            "\u001b[0;32m<ipython-input-8-c0b02ad7e45c>\u001b[0m in \u001b[0;36m<module>\u001b[0;34m()\u001b[0m\n\u001b[1;32m      1\u001b[0m \u001b[0;31m#import fibonacci module\u001b[0m\u001b[0;34m\u001b[0m\u001b[0;34m\u001b[0m\u001b[0;34m\u001b[0m\u001b[0m\n\u001b[0;32m----> 2\u001b[0;31m \u001b[0;32mimport\u001b[0m \u001b[0mfibonacci\u001b[0m\u001b[0;34m\u001b[0m\u001b[0;34m\u001b[0m\u001b[0m\n\u001b[0m\u001b[1;32m      3\u001b[0m \u001b[0mnum\u001b[0m\u001b[0;34m=\u001b[0m\u001b[0mint\u001b[0m\u001b[0;34m(\u001b[0m\u001b[0minput\u001b[0m\u001b[0;34m(\u001b[0m\u001b[0;34m\"Enter any number to print Fibonacci series \"\u001b[0m\u001b[0;34m)\u001b[0m\u001b[0;34m)\u001b[0m\u001b[0;34m\u001b[0m\u001b[0;34m\u001b[0m\u001b[0m\n\u001b[1;32m      4\u001b[0m \u001b[0mfibonacci\u001b[0m\u001b[0;34m.\u001b[0m\u001b[0mfib\u001b[0m\u001b[0;34m(\u001b[0m\u001b[0mnum\u001b[0m\u001b[0;34m)\u001b[0m\u001b[0;34m\u001b[0m\u001b[0;34m\u001b[0m\u001b[0m\n",
            "\u001b[0;31mModuleNotFoundError\u001b[0m: No module named 'fibonacci'",
            "",
            "\u001b[0;31m---------------------------------------------------------------------------\u001b[0;32m\nNOTE: If your import is failing due to a missing package, you can\nmanually install dependencies using either !pip or !apt.\n\nTo view examples of installing some common dependencies, click the\n\"Open Examples\" button below.\n\u001b[0;31m---------------------------------------------------------------------------\u001b[0m\n"
          ],
          "errorDetails": {
            "actions": [
              {
                "action": "open_url",
                "actionText": "Open Examples",
                "url": "/notebooks/snippets/importing_libraries.ipynb"
              }
            ]
          }
        }
      ]
    },
    {
      "cell_type": "code",
      "source": [
        "# Fibonacci numbers module\n",
        "\n",
        "def fib(n):    # write Fibonacci series up to n\n",
        "    a, b = 0, 1\n",
        "    while b < n:\n",
        "        print(b, end=' ')\n",
        "        a, b = b, a+b\n",
        "    print()\n",
        "\n",
        "def fib2(n): # return Fibonacci series up to n\n",
        "    result = []\n",
        "    a, b = 0, 1\n",
        "    while b < n:\n",
        "        result.append(b)\n",
        "        a, b = b, a+b\n",
        "    return result\n",
        "\n",
        "\n",
        "\n",
        " "
      ],
      "metadata": {
        "colab": {
          "base_uri": "https://localhost:8080/",
          "height": 130
        },
        "id": "luc5mvzliiFU",
        "outputId": "148bfbe5-f7ec-47e5-a016-b1ee846927b4"
      },
      "execution_count": 11,
      "outputs": [
        {
          "output_type": "error",
          "ename": "IndentationError",
          "evalue": "ignored",
          "traceback": [
            "\u001b[0;36m  File \u001b[0;32m\"<ipython-input-11-62a88aba9237>\"\u001b[0;36m, line \u001b[0;32m20\u001b[0m\n\u001b[0;31m    import fibo\u001b[0m\n\u001b[0m               ^\u001b[0m\n\u001b[0;31mIndentationError\u001b[0m\u001b[0;31m:\u001b[0m unindent does not match any outer indentation level\n"
          ]
        }
      ]
    },
    {
      "cell_type": "code",
      "source": [
        " import fibo"
      ],
      "metadata": {
        "colab": {
          "base_uri": "https://localhost:8080/",
          "height": 304
        },
        "id": "HcGvUNXXjKbA",
        "outputId": "76ba63c4-2ecc-4609-b21a-061d4a5c8677"
      },
      "execution_count": 10,
      "outputs": [
        {
          "output_type": "error",
          "ename": "ModuleNotFoundError",
          "evalue": "ignored",
          "traceback": [
            "\u001b[0;31m---------------------------------------------------------------------------\u001b[0m",
            "\u001b[0;31mModuleNotFoundError\u001b[0m                       Traceback (most recent call last)",
            "\u001b[0;32m<ipython-input-10-eefe155c0e87>\u001b[0m in \u001b[0;36m<module>\u001b[0;34m()\u001b[0m\n\u001b[0;32m----> 1\u001b[0;31m \u001b[0;32mimport\u001b[0m \u001b[0mfibo\u001b[0m\u001b[0;34m\u001b[0m\u001b[0;34m\u001b[0m\u001b[0m\n\u001b[0m",
            "\u001b[0;31mModuleNotFoundError\u001b[0m: No module named 'fibo'",
            "",
            "\u001b[0;31m---------------------------------------------------------------------------\u001b[0;32m\nNOTE: If your import is failing due to a missing package, you can\nmanually install dependencies using either !pip or !apt.\n\nTo view examples of installing some common dependencies, click the\n\"Open Examples\" button below.\n\u001b[0;31m---------------------------------------------------------------------------\u001b[0m\n"
          ],
          "errorDetails": {
            "actions": [
              {
                "action": "open_url",
                "actionText": "Open Examples",
                "url": "/notebooks/snippets/importing_libraries.ipynb"
              }
            ]
          }
        }
      ]
    },
    {
      "cell_type": "markdown",
      "source": [
        "15 Aim: Write a script named copyfile.py. This script should prompt the user for the names of two text files. The contents of the first file should be input and written to the second file."
      ],
      "metadata": {
        "id": "BYkrCNgjmV_k"
      }
    },
    {
      "cell_type": "code",
      "source": [
        "\n",
        "'''Write a script named copyfile.py. This script should prompt the user for the names of two text files. The contents of the first file should be input and written to the second\n",
        "file'''\n",
        "file1=input(\"Enter First Filename : \")\n",
        "file2=input(\"Enter Second Filename : \")\n",
        "# open file in read mode \n",
        "fn1 = open(file1, 'r') \n",
        "\n",
        "# open other file in write mode \n",
        "fn2 = open(file2, 'w') \n",
        "\n",
        "# read the content of the file line by line \n",
        "cont = fn1.readlines() \n",
        "#type(cont) \n",
        "for i in range(0, len(cont)):\n",
        "    fn2.write(cont[i]) \n",
        "\n",
        "# close the file \n",
        "fn2.close() \n",
        "print(\"Content of first file copied to second file \")\n",
        "\n",
        "# open file in read mode \n",
        "fn2 = open(file2, 'r') \n",
        "  \n",
        "# read the content of the file \n",
        "cont1 = fn2.read() \n",
        "  \n",
        "# print the content of the file \n",
        "print(\"Content of Second file :\")\n",
        "print(cont1) \n",
        "  \n",
        "# close all files \n",
        "fn1.close() \n",
        "fn2.close() "
      ],
      "metadata": {
        "colab": {
          "base_uri": "https://localhost:8080/"
        },
        "id": "rnCSoSa0oB_E",
        "outputId": "0076fde6-0bd6-4bd1-d21f-5ea5d1e39e34"
      },
      "execution_count": 17,
      "outputs": [
        {
          "output_type": "stream",
          "name": "stdout",
          "text": [
            "Enter First Filename : file1.txt\n",
            "Enter Second Filename : file2.txt\n",
            "Content of first file copied to second file \n",
            "Content of Second file :\n",
            "hello everyone\n",
            "i am omprakash kumar \n",
            "campus amritsar\n",
            "\n"
          ]
        }
      ]
    },
    {
      "cell_type": "markdown",
      "source": [
        ""
      ],
      "metadata": {
        "id": "EeaUblH5ma6y"
      }
    },
    {
      "cell_type": "markdown",
      "source": [
        "16 Aim:\n",
        "Write a program that inputs a text file. The program should print all of the unique words in the file in alphabetical order."
      ],
      "metadata": {
        "id": "wH2NjRxOqdHP"
      }
    },
    {
      "cell_type": "code",
      "source": [
        "'''Write a program that inputs a text file. The program should print all of the unique\n",
        "words in the file in alphabetical order'''\n",
        "fname = input(\"Enter file name: \")\n",
        "fh = open(fname)\n",
        "lst = list()                       # list for the desired output\n",
        "words=[];\n",
        "for line in fh:                    # to read every line of file romeo.txt\n",
        "    words += line.split()\n",
        "words.sort()\n",
        "\n",
        "# display the sorted words\n",
        "\n",
        "print(\"The unique words in  alphabetical order are:\")\n",
        "for word in words:\n",
        "    if word in lst:         # if element is repeated\n",
        "            continue              # do nothing\n",
        "    else:                     # else if element is not in the list\n",
        "            lst.append(word)\n",
        "            print(word)\n",
        "#print(lst)"
      ],
      "metadata": {
        "colab": {
          "base_uri": "https://localhost:8080/"
        },
        "id": "qH5wx4NQqepF",
        "outputId": "37eea47a-1b51-485c-c544-b786d23f7f6e"
      },
      "execution_count": 18,
      "outputs": [
        {
          "output_type": "stream",
          "name": "stdout",
          "text": [
            "Enter file name: file1.txt\n",
            "The unique words in  alphabetical order are:\n",
            "am\n",
            "amritsar\n",
            "campus\n",
            "everyone\n",
            "hello\n",
            "i\n",
            "kumar\n",
            "omprakash\n"
          ]
        }
      ]
    },
    {
      "cell_type": "markdown",
      "source": [
        " 17 AIM: write a python class to convert an integer to a roman numeral"
      ],
      "metadata": {
        "id": "eQ9DHtQXsKmH"
      }
    },
    {
      "cell_type": "code",
      "source": [
        "class py_solution:\n",
        "    def int_to_Roman(self, num):\n",
        "        lookup = [\n",
        "            (1000, 'M'),\n",
        "            (900, 'CM'),\n",
        "            (500, 'D'),\n",
        "            (400, 'CD'),\n",
        "            (100, 'C'),\n",
        "            (90, 'XC'),\n",
        "            (50, 'L'),\n",
        "            (40, 'XL'),\n",
        "            (10, 'X'),\n",
        "            (9, 'IX'),\n",
        "            (5, 'V'),\n",
        "            (4, 'IV'),\n",
        "            (1, 'I'),\n",
        "        ]\n",
        "        res = ''\n",
        "        for (n, roman) in lookup:\n",
        "            (d, num) = divmod(num, n)\n",
        "            res += roman * d\n",
        "        return res\n",
        "print(py_solution().int_to_Roman(1))\n",
        "print(py_solution().int_to_Roman(500))\n",
        "print(py_solution().int_to_Roman(755))\n",
        "print(py_solution().int_to_Roman(1200))\n",
        "print(py_solution().int_to_Roman(3456))"
      ],
      "metadata": {
        "colab": {
          "base_uri": "https://localhost:8080/"
        },
        "id": "3y2Ef7QbsI4D",
        "outputId": "815efd03-d60c-43d6-8cb8-51d61e547062"
      },
      "execution_count": 19,
      "outputs": [
        {
          "output_type": "stream",
          "name": "stdout",
          "text": [
            "I\n",
            "D\n",
            "DCCLV\n",
            "MCC\n",
            "MMMCDLVI\n"
          ]
        }
      ]
    },
    {
      "cell_type": "markdown",
      "source": [
        "19 AIM: write a python class to implement pow(x n)"
      ],
      "metadata": {
        "id": "SH8ylhbNs1pq"
      }
    },
    {
      "cell_type": "code",
      "source": [
        "class abc:\n",
        "\n",
        "    def f(x,y):\n",
        "\n",
        "        return pow(x,y)\n",
        "\n",
        "print(abc.f(2,3))"
      ],
      "metadata": {
        "colab": {
          "base_uri": "https://localhost:8080/"
        },
        "id": "pbeqFdUcszZJ",
        "outputId": "078e7e8a-f875-43b9-8d6b-52888f0ceb7c"
      },
      "execution_count": 21,
      "outputs": [
        {
          "output_type": "stream",
          "name": "stdout",
          "text": [
            "8\n"
          ]
        }
      ]
    },
    {
      "cell_type": "markdown",
      "source": [
        "20 AIM : Python class to reverse a string word by word"
      ],
      "metadata": {
        "id": "gwG9fgP1uLVE"
      }
    },
    {
      "cell_type": "code",
      "source": [
        "def rev_words(string):  \n",
        "    words = string.split(' ') \n",
        "    rev = ' '.join(reversed(words)) \n",
        "    return rev\n",
        " \n",
        "s= \"Python is good\"\n",
        "print (\"reverse: \",rev_words(s))\n",
        "\n",
        "s2= \"Hello from Study tonight\"\n",
        "print (\"reverse: \",rev_words(s2))"
      ],
      "metadata": {
        "colab": {
          "base_uri": "https://localhost:8080/"
        },
        "id": "bOQ4tNU6uIh2",
        "outputId": "464ef143-17dc-49b8-9d7a-d464ad290235"
      },
      "execution_count": 24,
      "outputs": [
        {
          "output_type": "stream",
          "name": "stdout",
          "text": [
            "reverse:  good is Python\n",
            "reverse:  tonight Study from Hello\n"
          ]
        }
      ]
    },
    {
      "cell_type": "markdown",
      "source": [
        ""
      ],
      "metadata": {
        "id": "GLSJ4n1rs0mN"
      }
    }
  ]
}